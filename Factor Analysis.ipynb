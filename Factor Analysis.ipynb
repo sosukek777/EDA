{
 "cells": [
  {
   "cell_type": "code",
   "execution_count": 486,
   "metadata": {},
   "outputs": [],
   "source": [
    "import pandas as pd\n",
    "import numpy as np\n",
    "from scipy.linalg import diagsvd\n",
    "import matplotlib.pyplot as plt\n",
    "import os\n",
    "os.chdir('/Users/sosuke/Downloads')\n",
    "from pca import pca\n",
    "from scipy.linalg import fractional_matrix_power\n",
    "from sklearn.cross_decomposition import CCA\n",
    "from scipy.spatial import distance_matrix"
   ]
  },
  {
   "cell_type": "code",
   "execution_count": 354,
   "metadata": {},
   "outputs": [
    {
     "name": "stderr",
     "output_type": "stream",
     "text": [
      "/Users/sosuke/opt/anaconda3/lib/python3.7/site-packages/ipykernel_launcher.py:2: ParserWarning: Falling back to the 'python' engine because the 'c' engine does not support regex separators (separators > 1 char and different from '\\s+' are interpreted as regex); you can avoid this warning by specifying engine='python'.\n",
      "  \n"
     ]
    }
   ],
   "source": [
    "col_5 = [\"Wind\", \"Radiation\", \"CO\", \"NO\", \"NO2\", \"O3\", \"HC\"]\n",
    "df5 = pd.read_table('p5.txt', delimiter = '  ', names = col_5)"
   ]
  },
  {
   "cell_type": "code",
   "execution_count": 355,
   "metadata": {},
   "outputs": [],
   "source": [
    "df5 = df5.drop(columns=[\"CO\", \"NO\", \"HC\"])"
   ]
  },
  {
   "cell_type": "markdown",
   "metadata": {},
   "source": [
    "We define a function that finds the loading matrix and the specific variances given a covariance or correlation matrix of a data matrix and the number of factors m, using a PC solution."
   ]
  },
  {
   "cell_type": "code",
   "execution_count": 356,
   "metadata": {},
   "outputs": [],
   "source": [
    "def ff(A, m):\n",
    "    '''\n",
    "    Given a covariance or a correlation matrix and the number of factors m, \n",
    "    this will calculate the loading matrix and the specific variances.\n",
    "    '''\n",
    "    eigval, eigvec = np.linalg.eigh(A)\n",
    "    eigval = np.flip(eigval)[:m]\n",
    "    eigvec = np.flip(eigvec, axis=1)[:, :m]\n",
    "    L = np.dot(eigvec, np.power(np.diag(eigval), 0.5))\n",
    "    \n",
    "    return L, np.diagonal(A-np.dot(L, np.transpose(L)))"
   ]
  },
  {
   "cell_type": "markdown",
   "metadata": {},
   "source": [
    "The loading matrix and the specific variances when $m=1$ and $m=2$ are given below. (The first matrix is the loading matrix and the second vector is the specific variances.)"
   ]
  },
  {
   "cell_type": "code",
   "execution_count": 372,
   "metadata": {
    "scrolled": true
   },
   "outputs": [
    {
     "data": {
      "text/plain": [
       "(array([[  0.19096945],\n",
       "        [-17.02940737],\n",
       "        [ -0.36960253],\n",
       "        [ -1.92290987]]),\n",
       " array([ 2.85377457,  0.3686227 , 11.22692475, 27.28093099]))"
      ]
     },
     "execution_count": 372,
     "metadata": {},
     "output_type": "execute_result"
    }
   ],
   "source": [
    "cov = df5.cov()\n",
    "l_cov_1, var_cov_1 = ff(cov, 1)\n",
    "l_cov_1, var_cov_1"
   ]
  },
  {
   "cell_type": "code",
   "execution_count": 373,
   "metadata": {},
   "outputs": [
    {
     "data": {
      "text/plain": [
       "(array([[  0.19096945,  -0.26926066],\n",
       "        [-17.02940737,  -0.60686095],\n",
       "        [ -0.36960253,   0.77045188],\n",
       "        [ -1.92290987,   5.19956805]]),\n",
       " array([2.78127327e+00, 3.42491328e-04, 1.06333286e+01, 2.45423055e-01]))"
      ]
     },
     "execution_count": 373,
     "metadata": {},
     "output_type": "execute_result"
    }
   ],
   "source": [
    "l_cov_2, var_cov_2 = ff(cov, 2)\n",
    "l_cov_2, var_cov_2"
   ]
  },
  {
   "cell_type": "markdown",
   "metadata": {},
   "source": [
    "The proportions of the variability when $m = 1$ and $m =2$ are given as"
   ]
  },
  {
   "cell_type": "code",
   "execution_count": 374,
   "metadata": {},
   "outputs": [
    {
     "data": {
      "text/plain": [
       "(0.9592958841693189, 0.9917026265481877)"
      ]
     },
     "execution_count": 374,
     "metadata": {},
     "output_type": "execute_result"
    }
   ],
   "source": [
    "eigval = np.flip(np.linalg.eigvalsh(cov))\n",
    "sum(eigval[:2])/sum(eigval), sum(eigval[:3])/sum(eigval)"
   ]
  },
  {
   "cell_type": "markdown",
   "metadata": {},
   "source": [
    "which gives us 95.93% and 99.17%"
   ]
  },
  {
   "cell_type": "markdown",
   "metadata": {},
   "source": [
    "The loading matrix and the specific variances when $m=1$ and $m=2$ are given below. (The first matrix is the loading matrix and the second vector is the specific variances.)"
   ]
  },
  {
   "cell_type": "code",
   "execution_count": 375,
   "metadata": {
    "scrolled": true
   },
   "outputs": [
    {
     "data": {
      "text/plain": [
       "(array([[-0.480817  ],\n",
       "        [ 0.68131137],\n",
       "        [ 0.47120959],\n",
       "        [ 0.75764328]]),\n",
       " array([0.76881501, 0.53581482, 0.77796152, 0.42597666]))"
      ]
     },
     "execution_count": 375,
     "metadata": {},
     "output_type": "execute_result"
    }
   ],
   "source": [
    "cor = df5.corr()\n",
    "l_cor_1, var_cor_1 = ff(cor, 1)\n",
    "l_cor_1, var_cor_1"
   ]
  },
  {
   "cell_type": "code",
   "execution_count": 376,
   "metadata": {},
   "outputs": [
    {
     "data": {
      "text/plain": [
       "(array([[-0.480817  ,  0.55417418],\n",
       "        [ 0.68131137, -0.10645863],\n",
       "        [ 0.47120959,  0.77727746],\n",
       "        [ 0.75764328, -0.03599683]]),\n",
       " array([0.46170599, 0.52448138, 0.17380126, 0.42468088]))"
      ]
     },
     "execution_count": 376,
     "metadata": {},
     "output_type": "execute_result"
    }
   ],
   "source": [
    "l_cor_2, var_cor_2 = ff(cor, 2)\n",
    "l_cor_2, var_cor_2"
   ]
  },
  {
   "cell_type": "markdown",
   "metadata": {},
   "source": [
    "The proportions of the variability when $m = 1$ and $m =2$ are given as"
   ]
  },
  {
   "cell_type": "code",
   "execution_count": 367,
   "metadata": {},
   "outputs": [
    {
     "data": {
      "text/plain": [
       "(0.9592958841693189, 0.9917026265481877)"
      ]
     },
     "execution_count": 367,
     "metadata": {},
     "output_type": "execute_result"
    }
   ],
   "source": [
    "eigval = np.flip(np.linalg.eigvalsh(cov))\n",
    "sum(eigval[:2])/sum(eigval), sum(eigval[:3])/sum(eigval)"
   ]
  },
  {
   "cell_type": "markdown",
   "metadata": {},
   "source": [
    "which gives us 95.93% and 99.17%, which is the same as in the covariance case"
   ]
  },
  {
   "cell_type": "markdown",
   "metadata": {},
   "source": [
    "The angle between the two vectors - the first factor loading using covariance matrix and the first factor loading using correlation matrix - is given by finding the arccos of the dot product of the two vectors divided by the magnitudes of both vectors. Thus, the angle is"
   ]
  },
  {
   "cell_type": "code",
   "execution_count": 52,
   "metadata": {},
   "outputs": [
    {
     "data": {
      "text/plain": [
       "3.141592653589793"
      ]
     },
     "execution_count": 52,
     "metadata": {},
     "output_type": "execute_result"
    }
   ],
   "source": [
    "np.arccos(np.dot(l_cov_1[0], l_cor_1[0])/(np.linalg.norm(l_cov_1[0])*np.linalg.norm(l_cor_1[0])))"
   ]
  },
  {
   "cell_type": "markdown",
   "metadata": {},
   "source": [
    "i.e. 180 degrees."
   ]
  }
 ],
 "metadata": {
  "kernelspec": {
   "display_name": "Python 3",
   "language": "python",
   "name": "python3"
  },
  "language_info": {
   "codemirror_mode": {
    "name": "ipython",
    "version": 3
   },
   "file_extension": ".py",
   "mimetype": "text/x-python",
   "name": "python",
   "nbconvert_exporter": "python",
   "pygments_lexer": "ipython3",
   "version": "3.7.4"
  }
 },
 "nbformat": 4,
 "nbformat_minor": 2
}
