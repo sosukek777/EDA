{
 "cells": [
  {
   "cell_type": "code",
   "execution_count": 1,
   "metadata": {},
   "outputs": [],
   "source": [
    "import pandas as pd\n",
    "import numpy as np\n",
    "from scipy.linalg import diagsvd\n",
    "import matplotlib.pyplot as plt\n",
    "import os\n",
    "os.chdir('/Users/sosuke/Downloads')\n",
    "from pca import pca\n",
    "from scipy.linalg import fractional_matrix_power\n",
    "from sklearn.cross_decomposition import CCA\n",
    "from scipy.spatial import distance_matrix"
   ]
  },
  {
   "cell_type": "code",
   "execution_count": 2,
   "metadata": {},
   "outputs": [
    {
     "name": "stderr",
     "output_type": "stream",
     "text": [
      "/Users/sosuke/opt/anaconda3/lib/python3.7/site-packages/ipykernel_launcher.py:5: ParserWarning: Falling back to the 'python' engine because the 'c' engine does not support regex separators (separators > 1 char and different from '\\s+' are interpreted as regex); you can avoid this warning by specifying engine='python'.\n",
      "  \"\"\"\n"
     ]
    }
   ],
   "source": [
    "# Columns of the dataset\n",
    "col_6 = [\"GPA\", \"GMAT\", \"admit\"]\n",
    "\n",
    "# Dataset\n",
    "gsbdata = pd.read_table('p6.txt', delimiter = '  ', names = col_6)"
   ]
  },
  {
   "cell_type": "code",
   "execution_count": 3,
   "metadata": {},
   "outputs": [],
   "source": [
    "gsb_1 = gsbdata[gsbdata['admit'] == 1].loc[:, [\"GPA\", \"GMAT\"]]\n",
    "gsb_2 = gsbdata[gsbdata['admit'] == 2].loc[:, [\"GPA\", \"GMAT\"]]\n",
    "gsb_3 = gsbdata[gsbdata['admit'] == 3].loc[:, [\"GPA\", \"GMAT\"]]"
   ]
  },
  {
   "cell_type": "code",
   "execution_count": 4,
   "metadata": {},
   "outputs": [],
   "source": [
    "mean = np.dot(np.transpose(gsbdata.loc[:, [\"GPA\", \"GMAT\"]]), np.ones(len(gsbdata)))/len(gsbdata)\n",
    "mean_1 = np.dot(np.transpose(gsb_1), np.ones(len(gsb_1)))/len(gsb_1)\n",
    "mean_2 = np.dot(np.transpose(gsb_2), np.ones(len(gsb_2)))/len(gsb_2)\n",
    "mean_3 = np.dot(np.transpose(gsb_3), np.ones(len(gsb_3)))/len(gsb_3)"
   ]
  },
  {
   "cell_type": "markdown",
   "metadata": {},
   "source": [
    "$\\bar{x_1}$, $\\bar{x_2}$, and $\\bar{x_3}$ are"
   ]
  },
  {
   "cell_type": "code",
   "execution_count": 5,
   "metadata": {},
   "outputs": [
    {
     "data": {
      "text/plain": [
       "(array([  3.41193548, 561.22580645]),\n",
       " array([  2.46821429, 447.07142857]),\n",
       " array([  2.99269231, 446.23076923]))"
      ]
     },
     "execution_count": 5,
     "metadata": {},
     "output_type": "execute_result"
    }
   ],
   "source": [
    "mean_1, mean_2, mean_3"
   ]
  },
  {
   "cell_type": "markdown",
   "metadata": {},
   "source": [
    "$\\bar{x}$ is given as"
   ]
  },
  {
   "cell_type": "code",
   "execution_count": 6,
   "metadata": {},
   "outputs": [
    {
     "data": {
      "text/plain": [
       "array([  2.97282353, 488.44705882])"
      ]
     },
     "execution_count": 6,
     "metadata": {},
     "output_type": "execute_result"
    }
   ],
   "source": [
    "mean"
   ]
  },
  {
   "cell_type": "code",
   "execution_count": 7,
   "metadata": {},
   "outputs": [],
   "source": [
    "S_pool = ((len(gsb_1) - 1)*gsb_1.cov()+(len(gsb_2) - 1)*gsb_2.cov()+(len(gsb_3) - 1)*gsb_3.cov())/(len(gsbdata)-3)"
   ]
  },
  {
   "cell_type": "markdown",
   "metadata": {},
   "source": [
    "$W = (n-3)S_{pool}$, therefore $W$ and $W^{-1}$ are"
   ]
  },
  {
   "cell_type": "code",
   "execution_count": 8,
   "metadata": {},
   "outputs": [
    {
     "data": {
      "text/html": [
       "<div>\n",
       "<style scoped>\n",
       "    .dataframe tbody tr th:only-of-type {\n",
       "        vertical-align: middle;\n",
       "    }\n",
       "\n",
       "    .dataframe tbody tr th {\n",
       "        vertical-align: top;\n",
       "    }\n",
       "\n",
       "    .dataframe thead th {\n",
       "        text-align: right;\n",
       "    }\n",
       "</style>\n",
       "<table border=\"1\" class=\"dataframe\">\n",
       "  <thead>\n",
       "    <tr style=\"text-align: right;\">\n",
       "      <th></th>\n",
       "      <th>GPA</th>\n",
       "      <th>GMAT</th>\n",
       "    </tr>\n",
       "  </thead>\n",
       "  <tbody>\n",
       "    <tr>\n",
       "      <th>GPA</th>\n",
       "      <td>3.127406</td>\n",
       "      <td>-150.916131</td>\n",
       "    </tr>\n",
       "    <tr>\n",
       "      <th>GMAT</th>\n",
       "      <td>-150.916131</td>\n",
       "      <td>299783.891882</td>\n",
       "    </tr>\n",
       "  </tbody>\n",
       "</table>\n",
       "</div>"
      ],
      "text/plain": [
       "             GPA           GMAT\n",
       "GPA     3.127406    -150.916131\n",
       "GMAT -150.916131  299783.891882"
      ]
     },
     "execution_count": 8,
     "metadata": {},
     "output_type": "execute_result"
    }
   ],
   "source": [
    "W = (len(gsbdata)-3)*S_pool\n",
    "W"
   ]
  },
  {
   "cell_type": "code",
   "execution_count": 9,
   "metadata": {},
   "outputs": [
    {
     "data": {
      "text/plain": [
       "array([[3.27714937e-01, 1.64977078e-04],\n",
       "       [1.64977078e-04, 3.41878843e-06]])"
      ]
     },
     "execution_count": 9,
     "metadata": {},
     "output_type": "execute_result"
    }
   ],
   "source": [
    "W_in = np.linalg.inv(W)\n",
    "W_in"
   ]
  },
  {
   "cell_type": "markdown",
   "metadata": {},
   "source": [
    "$B$ is given as"
   ]
  },
  {
   "cell_type": "code",
   "execution_count": 10,
   "metadata": {},
   "outputs": [],
   "source": [
    "B = len(gsb_1)*np.outer((mean_1 - mean),(mean_1 - mean)) \\\n",
    "+len(gsb_2)*np.outer((mean_2 - mean),(mean_2 - mean))+len(gsb_3)*np.outer((mean_3 - mean),(mean_3 - mean))"
   ]
  },
  {
   "cell_type": "markdown",
   "metadata": {},
   "source": [
    "Eigenvalues and eigenvectors of $W^{-1}B$ are given by its EVD as follows."
   ]
  },
  {
   "cell_type": "code",
   "execution_count": 11,
   "metadata": {},
   "outputs": [],
   "source": [
    "eigval, eigvec = np.linalg.eigh(np.dot(W_in, B))\n",
    "eigval = np.flip(eigval)\n",
    "eigvec = np.flip(eigvec, axis=1)"
   ]
  },
  {
   "cell_type": "code",
   "execution_count": 12,
   "metadata": {},
   "outputs": [
    {
     "data": {
      "text/plain": [
       "array([4.55504688, 1.13993176])"
      ]
     },
     "execution_count": 12,
     "metadata": {},
     "output_type": "execute_result"
    }
   ],
   "source": [
    "eigval"
   ]
  },
  {
   "cell_type": "code",
   "execution_count": 13,
   "metadata": {},
   "outputs": [
    {
     "data": {
      "text/plain": [
       "array([[-0.9999976 ,  0.00218884],\n",
       "       [-0.00218884, -0.9999976 ]])"
      ]
     },
     "execution_count": 13,
     "metadata": {},
     "output_type": "execute_result"
    }
   ],
   "source": [
    "eigvec"
   ]
  },
  {
   "cell_type": "markdown",
   "metadata": {},
   "source": [
    "Define the new observations as follows."
   ]
  },
  {
   "cell_type": "code",
   "execution_count": 14,
   "metadata": {},
   "outputs": [],
   "source": [
    "x_1 = np.array([3.21, 497])\n",
    "x_2 = np.array([3.22, 497])"
   ]
  },
  {
   "cell_type": "markdown",
   "metadata": {},
   "source": [
    "Applying the classification rule to x_1, we get"
   ]
  },
  {
   "cell_type": "code",
   "execution_count": 15,
   "metadata": {},
   "outputs": [
    {
     "data": {
      "text/plain": [
       "(0.3425147040081663, 0.8510693503823167, 0.3284326495221429)"
      ]
     },
     "execution_count": 15,
     "metadata": {},
     "output_type": "execute_result"
    }
   ],
   "source": [
    "abs(np.dot(eigvec[:, 0], x_1 - mean_1)), abs(np.dot(eigvec[:, 0], x_1 - mean_2)), abs(np.dot(eigvec[:, 0], x_1 - mean_3))"
   ]
  },
  {
   "cell_type": "markdown",
   "metadata": {},
   "source": [
    "which tells us that x_1 is classified to 3, which is waitlist."
   ]
  },
  {
   "cell_type": "markdown",
   "metadata": {},
   "source": [
    "Applying the classification rule to x_2, we get"
   ]
  },
  {
   "cell_type": "code",
   "execution_count": 16,
   "metadata": {},
   "outputs": [
    {
     "data": {
      "text/plain": [
       "(0.3325147279631917, 0.8610693264272913, 0.33843262556711745)"
      ]
     },
     "execution_count": 16,
     "metadata": {},
     "output_type": "execute_result"
    }
   ],
   "source": [
    "abs(np.dot(eigvec[:, 0], x_2 - mean_1)), abs(np.dot(eigvec[:, 0], x_2 - mean_2)), abs(np.dot(eigvec[:, 0], x_2 - mean_3))"
   ]
  },
  {
   "cell_type": "markdown",
   "metadata": {},
   "source": [
    "which tells us that x_2 is classified to 1, which is yes (admit)."
   ]
  },
  {
   "cell_type": "code",
   "execution_count": 17,
   "metadata": {},
   "outputs": [
    {
     "data": {
      "text/plain": [
       "Text(0, 0.5, 'GMAT')"
      ]
     },
     "execution_count": 17,
     "metadata": {},
     "output_type": "execute_result"
    },
    {
     "data": {
      "image/png": "[encoded data removed]",
      "text/plain": [
       "<Figure size 432x288 with 1 Axes>"
      ]
     },
     "metadata": {
      "needs_background": "light"
     },
     "output_type": "display_data"
    }
   ],
   "source": [
    "fig, ax = plt.subplots()\n",
    "ax.scatter(gsbdata.loc[:, \"GPA\"], gsbdata.loc[:, \"GMAT\"])\n",
    "for i, txt in enumerate(gsbdata.loc[:, \"admit\"]):\n",
    "    ax.annotate(txt, (gsbdata.loc[i, \"GPA\"], gsbdata.loc[i, \"GMAT\"]), fontsize=10)\n",
    "ax.set_xlabel('GPA')\n",
    "ax.set_ylabel('GMAT')"
   ]
  },
  {
   "cell_type": "markdown",
   "metadata": {},
   "source": [
    "The scatterplot shows that the higher the GMAT score and GPA are, the more likely you get admitted.\n",
    "The result from C shows that 0.01 difference in GPA changes the outcome of the admission. This is probably not an ideal admission policy since your career and your whole life may be affected by that small difference in your GPA."
   ]
  }
 ],
 "metadata": {
  "kernelspec": {
   "display_name": "Python 3",
   "language": "python",
   "name": "python3"
  },
  "language_info": {
   "codemirror_mode": {
    "name": "ipython",
    "version": 3
   },
   "file_extension": ".py",
   "mimetype": "text/x-python",
   "name": "python",
   "nbconvert_exporter": "python",
   "pygments_lexer": "ipython3",
   "version": "3.7.4"
  }
 },
 "nbformat": 4,
 "nbformat_minor": 2
}
