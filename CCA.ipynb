{
 "cells": [
  {
   "cell_type": "code",
   "execution_count": 486,
   "metadata": {},
   "outputs": [],
   "source": [
    "import pandas as pd\n",
    "import numpy as np\n",
    "from scipy.linalg import diagsvd\n",
    "import matplotlib.pyplot as plt\n",
    "import os\n",
    "os.chdir('/Users/sosuke/Downloads')\n",
    "from pca import pca\n",
    "from scipy.linalg import fractional_matrix_power\n",
    "from sklearn.cross_decomposition import CCA\n",
    "from scipy.spatial import distance_matrix"
   ]
  },
  {
   "cell_type": "code",
   "execution_count": 7,
   "metadata": {},
   "outputs": [
    {
     "name": "stderr",
     "output_type": "stream",
     "text": [
      "/Users/sosuke/opt/anaconda3/lib/python3.7/site-packages/ipykernel_launcher.py:2: ParserWarning: Falling back to the 'python' engine because the 'c' engine does not support regex separators (separators > 1 char and different from '\\s+' are interpreted as regex); you can avoid this warning by specifying engine='python'.\n",
      "  \n"
     ]
    }
   ],
   "source": [
    "col_3 = [\"shock\", \"vibrate\", \"static1\", \"static2\", \"distance\"]\n",
    "df3 = pd.read_table('p3.txt', delimiter = '  ', names = col_3)"
   ]
  },
  {
   "cell_type": "code",
   "execution_count": 8,
   "metadata": {},
   "outputs": [
    {
     "data": {
      "text/html": [
       "<div>\n",
       "<style scoped>\n",
       "    .dataframe tbody tr th:only-of-type {\n",
       "        vertical-align: middle;\n",
       "    }\n",
       "\n",
       "    .dataframe tbody tr th {\n",
       "        vertical-align: top;\n",
       "    }\n",
       "\n",
       "    .dataframe thead th {\n",
       "        text-align: right;\n",
       "    }\n",
       "</style>\n",
       "<table border=\"1\" class=\"dataframe\">\n",
       "  <thead>\n",
       "    <tr style=\"text-align: right;\">\n",
       "      <th></th>\n",
       "      <th>shock</th>\n",
       "      <th>vibrate</th>\n",
       "      <th>static1</th>\n",
       "      <th>static2</th>\n",
       "      <th>distance</th>\n",
       "    </tr>\n",
       "  </thead>\n",
       "  <tbody>\n",
       "    <tr>\n",
       "      <th>0</th>\n",
       "      <td>1889</td>\n",
       "      <td>1651</td>\n",
       "      <td>1561</td>\n",
       "      <td>1778</td>\n",
       "      <td>0.60</td>\n",
       "    </tr>\n",
       "    <tr>\n",
       "      <th>1</th>\n",
       "      <td>2403</td>\n",
       "      <td>2048</td>\n",
       "      <td>2087</td>\n",
       "      <td>2197</td>\n",
       "      <td>5.48</td>\n",
       "    </tr>\n",
       "    <tr>\n",
       "      <th>2</th>\n",
       "      <td>2119</td>\n",
       "      <td>1700</td>\n",
       "      <td>1815</td>\n",
       "      <td>2222</td>\n",
       "      <td>7.62</td>\n",
       "    </tr>\n",
       "    <tr>\n",
       "      <th>3</th>\n",
       "      <td>1645</td>\n",
       "      <td>1627</td>\n",
       "      <td>1110</td>\n",
       "      <td>1533</td>\n",
       "      <td>5.21</td>\n",
       "    </tr>\n",
       "    <tr>\n",
       "      <th>4</th>\n",
       "      <td>1976</td>\n",
       "      <td>1916</td>\n",
       "      <td>1614</td>\n",
       "      <td>1883</td>\n",
       "      <td>1.40</td>\n",
       "    </tr>\n",
       "    <tr>\n",
       "      <th>5</th>\n",
       "      <td>1712</td>\n",
       "      <td>1712</td>\n",
       "      <td>1439</td>\n",
       "      <td>1546</td>\n",
       "      <td>2.22</td>\n",
       "    </tr>\n",
       "    <tr>\n",
       "      <th>6</th>\n",
       "      <td>1943</td>\n",
       "      <td>1685</td>\n",
       "      <td>1271</td>\n",
       "      <td>1671</td>\n",
       "      <td>4.99</td>\n",
       "    </tr>\n",
       "    <tr>\n",
       "      <th>7</th>\n",
       "      <td>2104</td>\n",
       "      <td>1820</td>\n",
       "      <td>1717</td>\n",
       "      <td>1874</td>\n",
       "      <td>1.49</td>\n",
       "    </tr>\n",
       "    <tr>\n",
       "      <th>8</th>\n",
       "      <td>2983</td>\n",
       "      <td>2794</td>\n",
       "      <td>2412</td>\n",
       "      <td>2581</td>\n",
       "      <td>12.26</td>\n",
       "    </tr>\n",
       "    <tr>\n",
       "      <th>9</th>\n",
       "      <td>1745</td>\n",
       "      <td>1600</td>\n",
       "      <td>1384</td>\n",
       "      <td>1508</td>\n",
       "      <td>0.77</td>\n",
       "    </tr>\n",
       "    <tr>\n",
       "      <th>10</th>\n",
       "      <td>1710</td>\n",
       "      <td>1591</td>\n",
       "      <td>1518</td>\n",
       "      <td>1667</td>\n",
       "      <td>1.93</td>\n",
       "    </tr>\n",
       "    <tr>\n",
       "      <th>11</th>\n",
       "      <td>2046</td>\n",
       "      <td>1907</td>\n",
       "      <td>1627</td>\n",
       "      <td>1898</td>\n",
       "      <td>0.46</td>\n",
       "    </tr>\n",
       "    <tr>\n",
       "      <th>12</th>\n",
       "      <td>1840</td>\n",
       "      <td>1841</td>\n",
       "      <td>1595</td>\n",
       "      <td>1741</td>\n",
       "      <td>2.70</td>\n",
       "    </tr>\n",
       "    <tr>\n",
       "      <th>13</th>\n",
       "      <td>1867</td>\n",
       "      <td>1685</td>\n",
       "      <td>1493</td>\n",
       "      <td>1678</td>\n",
       "      <td>0.13</td>\n",
       "    </tr>\n",
       "    <tr>\n",
       "      <th>14</th>\n",
       "      <td>1859</td>\n",
       "      <td>1649</td>\n",
       "      <td>1389</td>\n",
       "      <td>1714</td>\n",
       "      <td>1.08</td>\n",
       "    </tr>\n",
       "    <tr>\n",
       "      <th>15</th>\n",
       "      <td>1954</td>\n",
       "      <td>2149</td>\n",
       "      <td>1180</td>\n",
       "      <td>1281</td>\n",
       "      <td>16.85</td>\n",
       "    </tr>\n",
       "    <tr>\n",
       "      <th>16</th>\n",
       "      <td>1325</td>\n",
       "      <td>1170</td>\n",
       "      <td>1002</td>\n",
       "      <td>1176</td>\n",
       "      <td>3.50</td>\n",
       "    </tr>\n",
       "    <tr>\n",
       "      <th>17</th>\n",
       "      <td>1419</td>\n",
       "      <td>1371</td>\n",
       "      <td>1252</td>\n",
       "      <td>1308</td>\n",
       "      <td>3.99</td>\n",
       "    </tr>\n",
       "    <tr>\n",
       "      <th>18</th>\n",
       "      <td>1828</td>\n",
       "      <td>1634</td>\n",
       "      <td>1602</td>\n",
       "      <td>1755</td>\n",
       "      <td>1.36</td>\n",
       "    </tr>\n",
       "    <tr>\n",
       "      <th>19</th>\n",
       "      <td>1725</td>\n",
       "      <td>1594</td>\n",
       "      <td>1313</td>\n",
       "      <td>1646</td>\n",
       "      <td>1.46</td>\n",
       "    </tr>\n",
       "    <tr>\n",
       "      <th>20</th>\n",
       "      <td>2276</td>\n",
       "      <td>2189</td>\n",
       "      <td>1547</td>\n",
       "      <td>2111</td>\n",
       "      <td>9.90</td>\n",
       "    </tr>\n",
       "    <tr>\n",
       "      <th>21</th>\n",
       "      <td>1899</td>\n",
       "      <td>1614</td>\n",
       "      <td>1422</td>\n",
       "      <td>1477</td>\n",
       "      <td>5.06</td>\n",
       "    </tr>\n",
       "    <tr>\n",
       "      <th>22</th>\n",
       "      <td>1633</td>\n",
       "      <td>1513</td>\n",
       "      <td>1290</td>\n",
       "      <td>1516</td>\n",
       "      <td>0.80</td>\n",
       "    </tr>\n",
       "    <tr>\n",
       "      <th>23</th>\n",
       "      <td>2061</td>\n",
       "      <td>1867</td>\n",
       "      <td>1646</td>\n",
       "      <td>2037</td>\n",
       "      <td>2.54</td>\n",
       "    </tr>\n",
       "    <tr>\n",
       "      <th>24</th>\n",
       "      <td>1856</td>\n",
       "      <td>1493</td>\n",
       "      <td>1356</td>\n",
       "      <td>1533</td>\n",
       "      <td>4.58</td>\n",
       "    </tr>\n",
       "    <tr>\n",
       "      <th>25</th>\n",
       "      <td>1727</td>\n",
       "      <td>1412</td>\n",
       "      <td>1238</td>\n",
       "      <td>1469</td>\n",
       "      <td>3.40</td>\n",
       "    </tr>\n",
       "    <tr>\n",
       "      <th>26</th>\n",
       "      <td>2168</td>\n",
       "      <td>1896</td>\n",
       "      <td>1701</td>\n",
       "      <td>1834</td>\n",
       "      <td>2.38</td>\n",
       "    </tr>\n",
       "    <tr>\n",
       "      <th>27</th>\n",
       "      <td>1655</td>\n",
       "      <td>1675</td>\n",
       "      <td>1414</td>\n",
       "      <td>1597</td>\n",
       "      <td>3.00</td>\n",
       "    </tr>\n",
       "    <tr>\n",
       "      <th>28</th>\n",
       "      <td>2626</td>\n",
       "      <td>2601</td>\n",
       "      <td>2065</td>\n",
       "      <td>2234</td>\n",
       "      <td>6.28</td>\n",
       "    </tr>\n",
       "    <tr>\n",
       "      <th>29</th>\n",
       "      <td>1490</td>\n",
       "      <td>1382</td>\n",
       "      <td>1014</td>\n",
       "      <td>1084</td>\n",
       "      <td>2.58</td>\n",
       "    </tr>\n",
       "  </tbody>\n",
       "</table>\n",
       "</div>"
      ],
      "text/plain": [
       "    shock  vibrate  static1  static2  distance\n",
       "0    1889     1651     1561     1778      0.60\n",
       "1    2403     2048     2087     2197      5.48\n",
       "2    2119     1700     1815     2222      7.62\n",
       "3    1645     1627     1110     1533      5.21\n",
       "4    1976     1916     1614     1883      1.40\n",
       "5    1712     1712     1439     1546      2.22\n",
       "6    1943     1685     1271     1671      4.99\n",
       "7    2104     1820     1717     1874      1.49\n",
       "8    2983     2794     2412     2581     12.26\n",
       "9    1745     1600     1384     1508      0.77\n",
       "10   1710     1591     1518     1667      1.93\n",
       "11   2046     1907     1627     1898      0.46\n",
       "12   1840     1841     1595     1741      2.70\n",
       "13   1867     1685     1493     1678      0.13\n",
       "14   1859     1649     1389     1714      1.08\n",
       "15   1954     2149     1180     1281     16.85\n",
       "16   1325     1170     1002     1176      3.50\n",
       "17   1419     1371     1252     1308      3.99\n",
       "18   1828     1634     1602     1755      1.36\n",
       "19   1725     1594     1313     1646      1.46\n",
       "20   2276     2189     1547     2111      9.90\n",
       "21   1899     1614     1422     1477      5.06\n",
       "22   1633     1513     1290     1516      0.80\n",
       "23   2061     1867     1646     2037      2.54\n",
       "24   1856     1493     1356     1533      4.58\n",
       "25   1727     1412     1238     1469      3.40\n",
       "26   2168     1896     1701     1834      2.38\n",
       "27   1655     1675     1414     1597      3.00\n",
       "28   2626     2601     2065     2234      6.28\n",
       "29   1490     1382     1014     1084      2.58"
      ]
     },
     "execution_count": 8,
     "metadata": {},
     "output_type": "execute_result"
    }
   ],
   "source": [
    "df3 # Data set"
   ]
  },
  {
   "cell_type": "code",
   "execution_count": 663,
   "metadata": {},
   "outputs": [],
   "source": [
    "S = df3.loc[:, [\"shock\", \"vibrate\", \"static1\", \"static2\"]].cov()\n",
    "S_x = S.loc[[\"shock\", \"vibrate\"], [\"shock\", \"vibrate\"]]\n",
    "S_y = S.loc[[\"static1\", \"static2\"], [\"static1\", \"static2\"]]\n",
    "S_xy = S.loc[[\"shock\", \"vibrate\"], [\"static1\", \"static2\"]]\n",
    "G = np.dot(np.dot(fractional_matrix_power(S_x, -0.5), S_xy), fractional_matrix_power(S_y, -0.5))"
   ]
  },
  {
   "cell_type": "code",
   "execution_count": 665,
   "metadata": {},
   "outputs": [],
   "source": [
    "u, s, v = np.linalg.svd(G, full_matrices=False, compute_uv=True)"
   ]
  },
  {
   "cell_type": "code",
   "execution_count": 666,
   "metadata": {
    "scrolled": true
   },
   "outputs": [
    {
     "data": {
      "text/plain": [
       "array([[-0.89032372, -0.4553281 ],\n",
       "       [-0.4553281 ,  0.89032372]])"
      ]
     },
     "execution_count": 666,
     "metadata": {},
     "output_type": "execute_result"
    }
   ],
   "source": [
    "u"
   ]
  },
  {
   "cell_type": "code",
   "execution_count": 667,
   "metadata": {},
   "outputs": [
    {
     "data": {
      "text/plain": [
       "array([[-0.69045146, -0.72337873],\n",
       "       [ 0.72337873, -0.69045146]])"
      ]
     },
     "execution_count": 667,
     "metadata": {},
     "output_type": "execute_result"
    }
   ],
   "source": [
    "v"
   ]
  },
  {
   "cell_type": "markdown",
   "metadata": {},
   "source": [
    "The canonical correlations $\\sigma_1$ and $\\sigma_2$ are given as the first and the second singular value, i.e."
   ]
  },
  {
   "cell_type": "code",
   "execution_count": 668,
   "metadata": {},
   "outputs": [
    {
     "data": {
      "text/plain": [
       "(0.9191348407413426, 0.07463326874446909)"
      ]
     },
     "execution_count": 668,
     "metadata": {},
     "output_type": "execute_result"
    }
   ],
   "source": [
    "s[0], s[1]"
   ]
  },
  {
   "cell_type": "markdown",
   "metadata": {},
   "source": [
    "Since $U_1 = u_1^T S_x^{-1/2}X$ and $V_1 = v_1^T S_y^{-1/2}Y$ where $u_1$ and $v_1$ are first left and right singular vectors, respectively,"
   ]
  },
  {
   "cell_type": "code",
   "execution_count": 672,
   "metadata": {},
   "outputs": [
    {
     "data": {
      "text/plain": [
       "(array([-0.00369591,  0.00086616]), array([-0.00163167, -0.00152456]))"
      ]
     },
     "execution_count": 672,
     "metadata": {},
     "output_type": "execute_result"
    }
   ],
   "source": [
    "a_1 = np.dot(fractional_matrix_power(S_x, -0.5), u[:, 0])\n",
    "b_1 = np.dot(fractional_matrix_power(S_y, -0.5), v[0, :])\n",
    "a_1, b_1"
   ]
  },
  {
   "cell_type": "markdown",
   "metadata": {},
   "source": [
    "$$U_1 = -0.00370shock - 0.000866vibrate$$\n",
    "$$V_1 = -0.00163static1 - 0.00152static2$$"
   ]
  },
  {
   "cell_type": "markdown",
   "metadata": {},
   "source": [
    "The plots with the first cannonical correlation vectors and the second canonical correlation vectors are shown below."
   ]
  },
  {
   "cell_type": "code",
   "execution_count": 132,
   "metadata": {},
   "outputs": [],
   "source": [
    "U_1 = np.dot(df3.loc[:,[\"shock\", \"vibrate\"]], a_1)\n",
    "V_1 = np.dot(df3.loc[:,[\"static1\", \"static2\"]], b_1)"
   ]
  },
  {
   "cell_type": "code",
   "execution_count": 133,
   "metadata": {},
   "outputs": [
    {
     "data": {
      "text/plain": [
       "<matplotlib.collections.PathCollection at 0x1a1ef19b10>"
      ]
     },
     "execution_count": 133,
     "metadata": {},
     "output_type": "execute_result"
    },
    {
     "data": {
      "image/png": "[encoded data removed]",
      "text/plain": [
       "<Figure size 432x288 with 1 Axes>"
      ]
     },
     "metadata": {
      "needs_background": "light"
     },
     "output_type": "display_data"
    }
   ],
   "source": [
    "plt.scatter(U_1, V_1)"
   ]
  },
  {
   "cell_type": "code",
   "execution_count": 135,
   "metadata": {},
   "outputs": [],
   "source": [
    "a_2 = np.dot(fractional_matrix_power(S_x, -0.5), u[:, 1])\n",
    "b_2 = np.dot(fractional_matrix_power(S_y, -0.5), v[1, :])"
   ]
  },
  {
   "cell_type": "code",
   "execution_count": 136,
   "metadata": {},
   "outputs": [],
   "source": [
    "U_2 = np.dot(df3.loc[:,[\"shock\", \"vibrate\"]], a_2)\n",
    "V_2 = np.dot(df3.loc[:,[\"static1\", \"static2\"]], b_2)"
   ]
  },
  {
   "cell_type": "code",
   "execution_count": 137,
   "metadata": {},
   "outputs": [
    {
     "data": {
      "text/plain": [
       "<matplotlib.collections.PathCollection at 0x1a1eef7990>"
      ]
     },
     "execution_count": 137,
     "metadata": {},
     "output_type": "execute_result"
    },
    {
     "data": {
      "image/png": "[encoded data removed]",
      "text/plain": [
       "<Figure size 432x288 with 1 Axes>"
      ]
     },
     "metadata": {
      "needs_background": "light"
     },
     "output_type": "display_data"
    }
   ],
   "source": [
    "plt.scatter(U_2, V_2)"
   ]
  },
  {
   "cell_type": "markdown",
   "metadata": {},
   "source": [
    "In the first plot, we can see that the correlation is very high. In fact, as we calculated in (a), the correlation of these points corresponds to the first canonical correlation, which is 0.919. \n",
    "In the second plot, we can see that there is not much correlation. This correlation corresponds to the second canonical correlation in (a), which is 0.075, and this in fact is very close to 0."
   ]
  }
 ],
 "metadata": {
  "kernelspec": {
   "display_name": "Python 3",
   "language": "python",
   "name": "python3"
  },
  "language_info": {
   "codemirror_mode": {
    "name": "ipython",
    "version": 3
   },
   "file_extension": ".py",
   "mimetype": "text/x-python",
   "name": "python",
   "nbconvert_exporter": "python",
   "pygments_lexer": "ipython3",
   "version": "3.7.4"
  }
 },
 "nbformat": 4,
 "nbformat_minor": 2
}
